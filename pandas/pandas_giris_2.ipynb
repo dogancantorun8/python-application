{
 "cells": [
  {
   "cell_type": "markdown",
   "metadata": {},
   "source": [
    "# PANDAS DATAFRAME KULLANIMI VE ÖZELLİKLERİ"
   ]
  },
  {
   "cell_type": "code",
   "execution_count": null,
   "metadata": {},
   "outputs": [],
   "source": [
    "#Dataframe:her sütunu farklı dtypedan oluşan yapılardır. Matrissel bir yapıdır ve sütunların her biri series nesnesidir \n",
    "#dataframeler genelde dosyalardan okunur. \n",
    "#ndarrayden,iterable nesneden veya herhangi bir datframeden okunup yeni bir dataframe oluşturulabilir "
   ]
  },
  {
   "cell_type": "markdown",
   "metadata": {},
   "source": [
    "# 1)Liste listesinden dataframe oluşturma"
   ]
  },
  {
   "cell_type": "code",
   "execution_count": 1,
   "metadata": {},
   "outputs": [
    {
     "name": "stdout",
     "output_type": "stream",
     "text": [
      "  Adı Soyadı  No\n",
      "X        Ali  20\n",
      "Y       Veli  30\n",
      "Z     Selami  40\n"
     ]
    }
   ],
   "source": [
    "import pandas as pd \n",
    "import numpy as np\n",
    "df = pd.DataFrame([['Ali', 20], ['Veli', 30], ['Selami', 40]], columns=['Adı Soyadı', 'No'],index=['X','Y','Z'])\n",
    "print(df)"
   ]
  },
  {
   "cell_type": "markdown",
   "metadata": {},
   "source": [
    "# 2)numpy arraylerden dataframe yaparsam"
   ]
  },
  {
   "cell_type": "code",
   "execution_count": 2,
   "metadata": {},
   "outputs": [
    {
     "name": "stdout",
     "output_type": "stream",
     "text": [
      "  Adı Syoadı  No\n",
      "0        Ali  20\n",
      "1       Veli  30\n",
      "2     Selami  40\n",
      "   One  Two  Three\n",
      "0    3   26     88\n",
      "1   67   15     43\n",
      "2   56   49     98\n",
      "3   16   35     79\n",
      "4   44   73     65\n",
      "5   46   31     32\n",
      "6   13    7     79\n",
      "7   54   64     36\n",
      "8   15   50     27\n",
      "9   64   77     23\n"
     ]
    }
   ],
   "source": [
    "import pandas as pd\n",
    "import numpy as np\n",
    "df = pd.DataFrame([['Ali', 20], ['Veli', 30], ['Selami', 40]], columns=['Adı Syoadı', 'No'])\n",
    "print(df)\n",
    "df = pd.DataFrame(np.random.randint(0, 100, (10, 3)), columns=['One', 'Two', 'Three'])\n",
    "print(df)"
   ]
  },
  {
   "cell_type": "code",
   "execution_count": null,
   "metadata": {},
   "outputs": [],
   "source": [
    "#2.1)Numpy arrayden dataframe oluşturma"
   ]
  },
  {
   "cell_type": "code",
   "execution_count": 3,
   "metadata": {},
   "outputs": [
    {
     "name": "stdout",
     "output_type": "stream",
     "text": [
      "    A   B   C\n",
      "0   0   1   2\n",
      "1   3   4   5\n",
      "2   6   7   8\n",
      "3   9  10  11\n",
      "4  12  13  14\n"
     ]
    }
   ],
   "source": [
    "import pandas as pd\n",
    "import numpy as np\n",
    "df = pd.DataFrame(np.arange(15).reshape(5, 3), columns=['A', 'B', 'C'])\n",
    "print(df)\n"
   ]
  },
  {
   "cell_type": "markdown",
   "metadata": {},
   "source": [
    "# 3)sözlükten dataframe yaparsam anahtar olarak kolon ismi, value olarak recordlar verilmeli"
   ]
  },
  {
   "cell_type": "code",
   "execution_count": 4,
   "metadata": {},
   "outputs": [
    {
     "name": "stdout",
     "output_type": "stream",
     "text": [
      "  Adı Soyadı  No\n",
      "A        Ali  20\n",
      "B       Veli  30\n",
      "C     Selami  40\n",
      "\n",
      "        Adı Soyadı  No\n",
      "0        Ali Serçe  10\n",
      "1  Sacit Hiçyılmaz  20\n",
      "2       Kaan Aslan  30\n"
     ]
    }
   ],
   "source": [
    "import pandas as pd\n",
    "import numpy as np\n",
    "df = pd.DataFrame([['Ali', 20], ['Veli', 30], ['Selami', 40]], columns=['Adı Soyadı', 'No'], index= ['A', 'B', 'C'])\n",
    "print(df)\n",
    "print()\n",
    "df = pd.DataFrame({'Adı Soyadı': ['Ali Serçe', 'Sacit Hiçyılmaz', 'Kaan Aslan'], 'No': [10, 20, 30]})\n",
    "print(df)"
   ]
  },
  {
   "cell_type": "markdown",
   "metadata": {},
   "source": [
    "# 4)sözlüklerden oluşan bir sözlüklede dataframe yapılabilir "
   ]
  },
  {
   "cell_type": "code",
   "execution_count": 5,
   "metadata": {},
   "outputs": [
    {
     "name": "stdout",
     "output_type": "stream",
     "text": [
      "   A  B  C\n",
      "X  1  4  7\n",
      "Y  2  5  8\n",
      "Z  3  6  9\n"
     ]
    }
   ],
   "source": [
    "import pandas as pd\n",
    "import numpy as np\n",
    "df = pd.DataFrame({'A': {'X': 1, 'Y': 2, 'Z': 3}, 'B': {'X': 4, 'Y': 5, 'Z': 6}, 'C': {'X': 7, 'Y': 8, 'Z': 9}})\n",
    "print(df)"
   ]
  },
  {
   "cell_type": "code",
   "execution_count": null,
   "metadata": {},
   "outputs": [],
   "source": [
    "#5)Serileri bir araya getirip dataframe yapabilirim"
   ]
  },
  {
   "cell_type": "code",
   "execution_count": 6,
   "metadata": {},
   "outputs": [
    {
     "name": "stdout",
     "output_type": "stream",
     "text": [
      "   X  Y  Z\n",
      "0  1  4  7\n",
      "1  2  5  8\n",
      "2  3  6  9\n"
     ]
    }
   ],
   "source": [
    "import pandas as pd\n",
    "import numpy as np\n",
    "a = pd.Series([1, 2, 3])\n",
    "b = pd.Series([4, 5, 6])\n",
    "c = pd.Series([7, 8, 9])\n",
    "df = pd.DataFrame({'X': a, 'Y': b, 'Z': c})\n",
    "print(df)"
   ]
  },
  {
   "cell_type": "code",
   "execution_count": null,
   "metadata": {},
   "outputs": [],
   "source": [
    "#5.1)series örneği 2: Bu yöntemde her seriyi sütun değil satırlara sırayla yerleştiriyor .satırsal işlem olmuş"
   ]
  },
  {
   "cell_type": "code",
   "execution_count": 7,
   "metadata": {},
   "outputs": [
    {
     "name": "stdout",
     "output_type": "stream",
     "text": [
      "   0  1  2\n",
      "0  1  2  3\n",
      "1  4  5  6\n",
      "2  7  8  9\n"
     ]
    }
   ],
   "source": [
    "import pandas as pd\n",
    "import numpy as np\n",
    "a = pd.Series([1, 2, 3])\n",
    "b = pd.Series([4, 5, 6])\n",
    "c = pd.Series([7, 8, 9])\n",
    "df = pd.DataFrame([a, b, c])\n",
    "print(df)"
   ]
  },
  {
   "cell_type": "code",
   "execution_count": null,
   "metadata": {},
   "outputs": [],
   "source": [
    "#5.2)concat ile  sütunsal birleştirebiliriz :"
   ]
  },
  {
   "cell_type": "code",
   "execution_count": 8,
   "metadata": {},
   "outputs": [
    {
     "name": "stdout",
     "output_type": "stream",
     "text": [
      "   X  Y  Z\n",
      "0  1  4  7\n",
      "1  2  5  8\n",
      "2  3  6  9\n"
     ]
    }
   ],
   "source": [
    "import pandas as pd\n",
    "import numpy as np\n",
    "a = pd.Series([1, 2, 3], name='X')\n",
    "b = pd.Series([4, 5, 6], name='Y')\n",
    "c = pd.Series([7, 8, 9], name='Z')\n",
    "df = pd.concat([a, b, c], axis=1)\n",
    "print(df) "
   ]
  },
  {
   "cell_type": "code",
   "execution_count": null,
   "metadata": {},
   "outputs": [],
   "source": [
    "#5.3)Boş bir dataframe oluşturup yeni seriesler şeklinde eklenebilir (indexleme ve atama yöntemi)"
   ]
  },
  {
   "cell_type": "code",
   "execution_count": 9,
   "metadata": {},
   "outputs": [
    {
     "name": "stdout",
     "output_type": "stream",
     "text": [
      "   X  Y  Z\n",
      "0  1  4  7\n",
      "1  2  5  8\n",
      "2  3  6  9\n"
     ]
    }
   ],
   "source": [
    "import pandas as pd\n",
    "import numpy as np\n",
    "a = pd.Series([1, 2, 3])\n",
    "b = pd.Series([4, 5, 6])\n",
    "c = pd.Series([7, 8, 9])\n",
    "df = pd.DataFrame()\n",
    "df['X'] = a\n",
    "df['Y'] = b\n",
    "df['Z'] = c\n",
    "print(df)"
   ]
  },
  {
   "cell_type": "markdown",
   "metadata": {},
   "source": [
    "# Dataframe Nesnesine  Erişim ve İşlemler"
   ]
  },
  {
   "cell_type": "code",
   "execution_count": null,
   "metadata": {},
   "outputs": [],
   "source": [
    "#Bir dataframe in belirli bir sutununu series olarak alabilirim ve series methodlarını kullanabilirim"
   ]
  },
  {
   "cell_type": "code",
   "execution_count": 10,
   "metadata": {},
   "outputs": [
    {
     "name": "stdout",
     "output_type": "stream",
     "text": [
      "A       Ali\n",
      "B      Veli\n",
      "C    Selami\n",
      "Name: Adı Soyadı, dtype: object\n",
      "\n",
      "A    20\n",
      "B    30\n",
      "C    40\n",
      "Name: No, dtype: int64\n"
     ]
    }
   ],
   "source": [
    "import pandas as pd\n",
    "import numpy as np\n",
    "df = pd.DataFrame([['Ali', 20], ['Veli', 30], ['Selami', 40]], columns=['Adı Soyadı', 'No'], index= ['A', 'B', 'C'])\n",
    "s = df['Adı Soyadı']\n",
    "k = df['No']\n",
    "print(s)\n",
    "print()\n",
    "print(k)"
   ]
  },
  {
   "cell_type": "code",
   "execution_count": null,
   "metadata": {},
   "outputs": [],
   "source": [
    "#dtype değiştirebiliriz tüm numerik ifadelerin dtype float32 olur "
   ]
  },
  {
   "cell_type": "code",
   "execution_count": 11,
   "metadata": {},
   "outputs": [
    {
     "name": "stdout",
     "output_type": "stream",
     "text": [
      "A       Ali\n",
      "B      Veli\n",
      "C    Selami\n",
      "Name: Adı Soyadı, dtype: object\n",
      "\n",
      "A    20.0\n",
      "B    30.0\n",
      "C    40.0\n",
      "Name: No, dtype: float32\n",
      "\n",
      "A    100.0\n",
      "B    200.0\n",
      "C    300.0\n",
      "Name: Depth, dtype: float32\n"
     ]
    }
   ],
   "source": [
    "import pandas as pd\n",
    "import numpy as np\n",
    "df = pd.DataFrame([['Ali', 20, 100], ['Veli', 30, 200], ['Selami', 40, 300]], columns=['Adı Soyadı', 'No', 'Depth'], index= ['A', 'B', 'C'], dtype='float32')\n",
    "s = df['Adı Soyadı']\n",
    "k = df['No']\n",
    "m = df['Depth']\n",
    "print(s)\n",
    "print()\n",
    "print(k)\n",
    "print()\n",
    "print(m) "
   ]
  },
  {
   "cell_type": "markdown",
   "metadata": {},
   "source": [
    "# Dataframe İndexlenmesi  :"
   ]
  },
  {
   "cell_type": "code",
   "execution_count": null,
   "metadata": {},
   "outputs": [],
   "source": [
    "#1)Sütunsal indexleyebilirim ve sütun indexini verip çağırabilirim \n",
    "#2)dataframe iloc-loc ile indexlenirse satırın tamamı elde edilir \n",
    "    #2.1)df.iloc yaparsam tek bir satırı elde edersem series olur,bir grup satırı elde etmek istersem dataframe olur.[Satırlar için iloc kullan,satırın numarasıyla işlem yapar] \n",
    "        #df.iloc[5:7] :Data frame alır \n",
    "        #df.iloc[5] :series olarak alır  \n",
    "        #df.iloc[[1,2]]=1 ve 2.satırları alırım "
   ]
  },
  {
   "cell_type": "code",
   "execution_count": 13,
   "metadata": {},
   "outputs": [
    {
     "name": "stdout",
     "output_type": "stream",
     "text": [
      "            Date      Open      High       Low     Close         Volume  \\\n",
      "10  Feb 10, 2018  0.947251  1.300000  0.947251  1.070000  4,682,010,000   \n",
      "11  Feb 09, 2018  0.797140  0.954428  0.771540  0.954428  1,690,340,000   \n",
      "12  Feb 08, 2018  0.729252  0.806970  0.722611  0.805263    947,315,000   \n",
      "13  Feb 07, 2018  0.774576  0.805478  0.706950  0.723895  1,133,370,000   \n",
      "14  Feb 06, 2018  0.705121  0.786004  0.588360  0.776393  2,361,140,000   \n",
      "15  Feb 05, 2018  0.825943  0.833866  0.675827  0.691799  1,286,180,000   \n",
      "16  Feb 04, 2018  0.913418  0.952947  0.796821  0.815703  1,190,960,000   \n",
      "17  Feb 03, 2018  0.891992  0.974799  0.761635  0.924043  1,988,960,000   \n",
      "18  Feb 02, 2018  0.960642  0.960642  0.635185  0.884784  3,529,760,000   \n",
      "19  Feb 01, 2018  1.160000  1.160000  0.930378  0.962530  1,410,420,000   \n",
      "\n",
      "        Market Cap  \n",
      "10  36,951,500,000  \n",
      "11  31,095,800,000  \n",
      "12  28,447,500,000  \n",
      "13  30,215,600,000  \n",
      "14  27,506,200,000  \n",
      "15  32,219,400,000  \n",
      "16  35,631,700,000  \n",
      "17  34,795,900,000  \n",
      "18  37,473,900,000  \n",
      "19  44,971,500,000  \n"
     ]
    }
   ],
   "source": [
    "#2.1)İloc indexleme \n",
    "import pandas as pd\n",
    "import numpy as np\n",
    "df = pd.read_csv(r'CoinDatasets\\ripple_price.csv')\n",
    "result = df.iloc[10:20]\n",
    "print(result)\n"
   ]
  },
  {
   "cell_type": "code",
   "execution_count": 19,
   "metadata": {},
   "outputs": [
    {
     "name": "stdout",
     "output_type": "stream",
     "text": [
      "Date            Feb 10, 2018\n",
      "Open                0.947251\n",
      "High                     1.3\n",
      "Low                 0.947251\n",
      "Close                   1.07\n",
      "Volume         4,682,010,000\n",
      "Market Cap    36,951,500,000\n",
      "Name: 10, dtype: object\n"
     ]
    }
   ],
   "source": [
    "#2.2)df.loc yaparsam tek bir satırı elde edersem series olur,bir grup satırı elde etmek istersem dataframe olur.[index isimleriyle ele geçiriyorum] \n",
    "import pandas as pd\n",
    "import numpy as np\n",
    "df = pd.read_csv(r'CoinDatasets\\ripple_price.csv') \n",
    "print(df.loc[10]) #label ismini verdim ve eriştim 10.satıra\n"
   ]
  },
  {
   "cell_type": "code",
   "execution_count": 20,
   "metadata": {},
   "outputs": [
    {
     "name": "stdout",
     "output_type": "stream",
     "text": [
      "              Date      Open     Close\n",
      "0     Feb 20, 2018  1.140000  1.090000\n",
      "1     Feb 19, 2018  1.120000  1.140000\n",
      "2     Feb 18, 2018  1.200000  1.120000\n",
      "3     Feb 17, 2018  1.140000  1.200000\n",
      "4     Feb 16, 2018  1.140000  1.140000\n",
      "...            ...       ...       ...\n",
      "1657  Aug 08, 2013  0.004397  0.004254\n",
      "1658  Aug 07, 2013  0.004669  0.004417\n",
      "1659  Aug 06, 2013  0.005637  0.004680\n",
      "1660  Aug 05, 2013  0.005875  0.005613\n",
      "1661  Aug 04, 2013  0.005874  0.005882\n",
      "\n",
      "[1662 rows x 3 columns]\n"
     ]
    }
   ],
   "source": [
    "#3)Dataframe nesnesi ile indexleme: Sütunları ele geçiririm bu yöntemle :Sütun ismini ele geçirip işlem yapar\n",
    "#tek sütun ele geçirilirse series çok sütun ele geçirilirse dataframe olur\n",
    "import pandas as pd\n",
    "import numpy as np\n",
    "df = pd.read_csv(r'CoinDatasets\\ripple_price.csv')\n",
    "result = df[['Date', 'Open', 'Close']]\n",
    "print(result)"
   ]
  },
  {
   "cell_type": "markdown",
   "metadata": {},
   "source": [
    "# Dataframe Nesnesinde Koşul işlemleri ve Operasyonlar"
   ]
  },
  {
   "cell_type": "code",
   "execution_count": 21,
   "metadata": {},
   "outputs": [
    {
     "name": "stdout",
     "output_type": "stream",
     "text": [
      "            Date  Open  High   Low  Close         Volume       Market Cap\n",
      "37  Jan 14, 2018  2.02  2.02  1.81   1.86  1,978,200,000   78,195,800,000\n",
      "38  Jan 13, 2018  2.05  2.12  1.98   2.02  2,130,170,000   79,469,700,000\n",
      "41  Jan 10, 2018  2.13  2.16  1.70   1.97  4,833,640,000   82,511,000,000\n",
      "42  Jan 09, 2018  2.44  2.53  1.98   2.10  3,694,700,000   94,657,500,000\n",
      "43  Jan 08, 2018  3.36  3.36  2.07   2.46  3,315,260,000  130,302,000,000\n",
      "44  Jan 07, 2018  3.09  3.49  3.08   3.38  2,395,150,000  119,819,000,000\n",
      "45  Jan 06, 2018  3.02  3.24  2.99   3.09  2,777,560,000  117,033,000,000\n",
      "46  Jan 05, 2018  3.30  3.56  2.83   3.05  6,288,500,000  127,870,000,000\n",
      "47  Jan 04, 2018  3.12  3.84  3.12   3.20  8,103,660,000  120,763,000,000\n",
      "48  Jan 03, 2018  2.46  3.28  2.44   3.11  6,635,880,000   95,457,200,000\n",
      "49  Jan 02, 2018  2.37  2.49  2.25   2.48  3,171,010,000   91,791,800,000\n",
      "50  Jan 01, 2018  2.30  2.39  2.15   2.39  1,894,230,000   88,945,900,000\n",
      "51  Dec 31, 2017  2.10  2.39  1.87   2.30  4,642,080,000   81,162,600,000\n",
      "52  Dec 30, 2017  2.20  2.85  2.04   2.16  8,108,390,000   85,187,400,000\n"
     ]
    }
   ],
   "source": [
    "#Bir satırda herhangi bir kriter uygulamak istersem: \n",
    "import pandas as pd\n",
    "import numpy as np\n",
    "df = pd.read_csv(r'CoinDatasets\\ripple_price.csv')\n",
    "result = df.iloc[(df['Open'] > 2).values] #open columnda 2 den büyük olanları getirdim\n",
    "print(result)\n"
   ]
  },
  {
   "cell_type": "code",
   "execution_count": 22,
   "metadata": {},
   "outputs": [
    {
     "name": "stdout",
     "output_type": "stream",
     "text": [
      "            Date  Open  High   Low  Close         Volume       Market Cap\n",
      "37  Jan 14, 2018  2.02  2.02  1.81   1.86  1,978,200,000   78,195,800,000\n",
      "38  Jan 13, 2018  2.05  2.12  1.98   2.02  2,130,170,000   79,469,700,000\n",
      "41  Jan 10, 2018  2.13  2.16  1.70   1.97  4,833,640,000   82,511,000,000\n",
      "42  Jan 09, 2018  2.44  2.53  1.98   2.10  3,694,700,000   94,657,500,000\n",
      "43  Jan 08, 2018  3.36  3.36  2.07   2.46  3,315,260,000  130,302,000,000\n",
      "44  Jan 07, 2018  3.09  3.49  3.08   3.38  2,395,150,000  119,819,000,000\n",
      "45  Jan 06, 2018  3.02  3.24  2.99   3.09  2,777,560,000  117,033,000,000\n",
      "46  Jan 05, 2018  3.30  3.56  2.83   3.05  6,288,500,000  127,870,000,000\n",
      "47  Jan 04, 2018  3.12  3.84  3.12   3.20  8,103,660,000  120,763,000,000\n",
      "48  Jan 03, 2018  2.46  3.28  2.44   3.11  6,635,880,000   95,457,200,000\n",
      "49  Jan 02, 2018  2.37  2.49  2.25   2.48  3,171,010,000   91,791,800,000\n",
      "50  Jan 01, 2018  2.30  2.39  2.15   2.39  1,894,230,000   88,945,900,000\n",
      "51  Dec 31, 2017  2.10  2.39  1.87   2.30  4,642,080,000   81,162,600,000\n",
      "52  Dec 30, 2017  2.20  2.85  2.04   2.16  8,108,390,000   85,187,400,000\n"
     ]
    }
   ],
   "source": [
    "#iloc kullanmadan dataframe indexlemesiyle koşul belirtme\n",
    "import pandas as pd\n",
    "import numpy as np\n",
    "df = pd.read_csv(r'CoinDatasets\\ripple_price.csv')\n",
    "result = df[df['Open'] > 2]\n",
    "print(result)"
   ]
  },
  {
   "cell_type": "code",
   "execution_count": 23,
   "metadata": {},
   "outputs": [
    {
     "name": "stdout",
     "output_type": "stream",
     "text": [
      "    Y   Z\n",
      "0   2   3\n",
      "1   5   6\n",
      "2   8   9\n",
      "3  11  12\n"
     ]
    }
   ],
   "source": [
    "#Dataframe den satır ve sütun silme :satırda axis=0 ,sütun silersem axis=1 yazacağım df.drop() fonksiyonu içerisine \n",
    "import pandas as pd\n",
    "import numpy as np\n",
    "df = pd.DataFrame([[1, 2, 3], [4, 5, 6], [7, 8, 9], [10, 11, 12]], columns=['X', 'Y', 'Z'])\n",
    "result = df.drop('X', axis=1) \n",
    "print(result)"
   ]
  },
  {
   "cell_type": "code",
   "execution_count": 24,
   "metadata": {},
   "outputs": [
    {
     "name": "stdout",
     "output_type": "stream",
     "text": [
      "    X   Y   Z\n",
      "0   1   2   3\n",
      "1   4   5   6\n",
      "2   7   8   9\n",
      "3  10  11  12\n",
      "\n",
      "    X   Y   Z\n",
      "0   1   2   3\n",
      "1   4   5   6\n",
      "3  10  11  12\n"
     ]
    }
   ],
   "source": [
    "#Birden fazla sütun silmek istersem liste halinde vereceğim :result = df.drop(['X', 'Y'], axis=1)\n",
    "#satır silmek istersem aşağıdaki gibi yapabilirim \n",
    "import pandas as pd\n",
    "import numpy as np\n",
    "df = pd.DataFrame([[1, 2, 3], [4, 5, 6], [7, 8, 9], [10, 11, 12]], columns=['X', 'Y', 'Z'])\n",
    "print(df)\n",
    "print()\n",
    "result = df.drop(2) #2.satırı sildim esas nesnemde bir değişiklik yok result nesnemde değişiklik oldu\n",
    "print(result)"
   ]
  },
  {
   "cell_type": "code",
   "execution_count": 25,
   "metadata": {},
   "outputs": [
    {
     "name": "stdout",
     "output_type": "stream",
     "text": [
      "   X  Y  Z\n",
      "A  1  4  7\n",
      "B  2  5  8\n",
      "C  3  6  9\n",
      "\n",
      "   X  Y  Z   K\n",
      "A  1  4  7  10\n",
      "B  2  5  8  20\n",
      "C  3  6  9  30\n"
     ]
    }
   ],
   "source": [
    "#Dataframe insert yapmak istersem \n",
    "import pandas as pd\n",
    "import numpy as np\n",
    "df = pd.DataFrame({'X': [1, 2, 3], 'Y': [4, 5, 6], 'Z': [7, 8, 9]}, index=['A', 'B', 'C'])\n",
    "print(df)\n",
    "print()\n",
    "df['K'] = [10, 20, 30] #K sütununu insert ettim df['K']=100 dersem tüm elemanlar 100 oluyor\n",
    "print(df)"
   ]
  },
  {
   "cell_type": "code",
   "execution_count": 26,
   "metadata": {},
   "outputs": [
    {
     "name": "stdout",
     "output_type": "stream",
     "text": [
      "   X  Y  Z\n",
      "0  1  4  7\n",
      "1  2  5  8\n",
      "2  3  6  9\n",
      "\n",
      "   X  Y   K  Z\n",
      "0  1  4  10  7\n",
      "1  2  5  20  8\n",
      "2  3  6  30  9\n"
     ]
    }
   ],
   "source": [
    "\n",
    "#2.yol insert etme yöntemi \n",
    "import pandas as pd\n",
    "import numpy as np\n",
    "df = pd.DataFrame({'X': [1, 2, 3], 'Y': [4, 5, 6], 'Z': [7, 8, 9]})\n",
    "print(df)\n",
    "print()\n",
    "df.insert(2, 'K', [10, 20, 30])  #df.insert(3, 'K', [10, 20, 30]) = 3 yaparsam K 3.sütuna geliyor\n",
    "print(df)"
   ]
  },
  {
   "cell_type": "code",
   "execution_count": 27,
   "metadata": {},
   "outputs": [
    {
     "name": "stdout",
     "output_type": "stream",
     "text": [
      "   X  Y  Z\n",
      "A  1  4  7\n",
      "B  2  5  8\n",
      "C  3  6  9\n",
      "\n",
      "   X  Y  Z   K\n",
      "A  1  4  7  10\n",
      "B  2  5  8  20\n",
      "C  3  6  9  30\n"
     ]
    }
   ],
   "source": [
    "#İnsert İşlemimde eğer series veriyorsam indexlerim uyuşmalı \n",
    "import pandas as pd\n",
    "import numpy as np\n",
    "df = pd.DataFrame({'X': [1, 2, 3], 'Y': [4, 5, 6], 'Z': [7, 8, 9]}, index=['A', 'B', 'C'])\n",
    "print(df)\n",
    "print()\n",
    "s = pd.Series([10, 20, 30], index=['A', 'B', 'C'])\n",
    "df.insert(3, 'K', s)\n",
    "print(df)"
   ]
  },
  {
   "cell_type": "code",
   "execution_count": 28,
   "metadata": {},
   "outputs": [
    {
     "name": "stdout",
     "output_type": "stream",
     "text": [
      "     X  Y    Z\n",
      "A  1.0  4  7.0\n",
      "B  NaN  5  8.0\n",
      "C  3.0  6  NaN\n",
      "\n",
      "     X  Y    Z\n",
      "A  1.0  4  7.0\n"
     ]
    }
   ],
   "source": [
    "#dropna: na olan tüm satırları atıyor\n",
    "import pandas as pd\n",
    "import numpy as np\n",
    "df = pd.DataFrame({'X': [1, None, 3], 'Y': [4, 5, 6], 'Z': [7, 8, None]}, index=['A', 'B', 'C'])\n",
    "print(df)\n",
    "print()\n",
    "result = df.dropna()\n",
    "print(result)"
   ]
  },
  {
   "cell_type": "code",
   "execution_count": 29,
   "metadata": {},
   "outputs": [
    {
     "name": "stdout",
     "output_type": "stream",
     "text": [
      "             Date      Open      High       Low     Close         Volume  \\\n",
      "0    Feb 20, 2018  1.140000  1.170000  1.080000  1.090000    806,673,000   \n",
      "1    Feb 19, 2018  1.120000  1.170000  1.120000  1.140000    556,304,000   \n",
      "2    Feb 18, 2018  1.200000  1.210000  1.090000  1.120000  1,113,650,000   \n",
      "3    Feb 17, 2018  1.140000  1.220000  1.130000  1.200000  1,186,730,000   \n",
      "4    Feb 16, 2018  1.140000  1.150000  1.110000  1.140000    568,339,000   \n",
      "..            ...       ...       ...       ...       ...            ...   \n",
      "285  May 11, 2017  0.185035  0.194828  0.162431  0.183135    103,699,000   \n",
      "286  May 10, 2017  0.158471  0.201207  0.156363  0.186066    138,792,000   \n",
      "287  May 09, 2017  0.199198  0.216890  0.134406  0.160074    214,002,000   \n",
      "288  May 08, 2017  0.141620  0.237587  0.135105  0.198212    402,611,000   \n",
      "289  May 07, 2017  0.101929  0.148274  0.098938  0.141763    249,029,000   \n",
      "\n",
      "         Market Cap  \n",
      "0    44,648,100,000  \n",
      "1    43,813,300,000  \n",
      "2    46,997,500,000  \n",
      "3    44,370,200,000  \n",
      "4    44,663,300,000  \n",
      "..              ...  \n",
      "285   7,023,110,000  \n",
      "286   6,014,860,000  \n",
      "287   7,560,680,000  \n",
      "288   5,375,270,000  \n",
      "289   3,868,770,000  \n",
      "\n",
      "[290 rows x 7 columns]\n"
     ]
    }
   ],
   "source": [
    "#açılış fiyatı sütununda  ortalamadan büyük olanları bulmak istersem: \n",
    "import pandas as pd\n",
    "import numpy as np\n",
    "df = pd.read_csv(r'CoinDatasets\\ripple_price.csv')\n",
    "result = df[df['Open'] > df['Open'].mean()]\n",
    "print(result)"
   ]
  },
  {
   "cell_type": "code",
   "execution_count": 30,
   "metadata": {},
   "outputs": [
    {
     "name": "stdout",
     "output_type": "stream",
     "text": [
      "Open     0.097768\n",
      "Close    0.098423\n",
      "dtype: float64\n"
     ]
    }
   ],
   "source": [
    "#iki sutunun ortalamasını almak istersem \n",
    "import pandas as pd\n",
    "import numpy as np\n",
    "df = pd.read_csv(r'CoinDatasets\\ripple_price.csv')\n",
    "result = df[['Open', 'Close']].mean(axis=0)\n",
    "print(result)"
   ]
  },
  {
   "cell_type": "code",
   "execution_count": 32,
   "metadata": {},
   "outputs": [],
   "source": [
    "#Not:dataframede transpoz vb işlemler yapmak istersek numpy arraye dönüp(cast edip) işlem yapabiliriz  \n",
    "#bir dataframede axis=0 ile satırlar üzerinde axis=1  dersek sütunlar üzerinde işlem yapabiliriz\n",
    "#df.iloc(5) dersem 5.satıra erişirim.df in iloc fonksiyonunda satırlarla işlem yapabilirim\n",
    "#dataframe in tek bir indexi olur ve o da satırlar içindir.\n",
    "#df['item-3' : 'item-5'] =>> bu şekilde yaparsam 3.satır ve 5.satır arasındaki değerleri getirir.\n",
    "\n",
    "#df.iloc[3,5] => 3.satır 5.spesifik elemana erişirim\n",
    "#df.loc['item-3','Open'] =>3.satırın open olan sütunu gelsin istersem yazarım"
   ]
  },
  {
   "cell_type": "markdown",
   "metadata": {},
   "source": [
    "# Dataframe Nesnesinde İterasyon "
   ]
  },
  {
   "cell_type": "code",
   "execution_count": 33,
   "metadata": {},
   "outputs": [
    {
     "name": "stdout",
     "output_type": "stream",
     "text": [
      "    X   Y   Z\n",
      "A   0   1   2\n",
      "B   3   4   5\n",
      "C   6   7   8\n",
      "D   9  10  11\n",
      "E  12  13  14\n",
      "\n",
      "A     0\n",
      "B     3\n",
      "C     6\n",
      "D     9\n",
      "E    12\n",
      "Name: X, dtype: int32\n",
      "A     1\n",
      "B     4\n",
      "C     7\n",
      "D    10\n",
      "E    13\n",
      "Name: Y, dtype: int32\n",
      "A     2\n",
      "B     5\n",
      "C     8\n",
      "D    11\n",
      "E    14\n",
      "Name: Z, dtype: int32\n"
     ]
    }
   ],
   "source": [
    "#dataframe iterate edersem: \n",
    "import pandas as pd\n",
    "import numpy as np\n",
    "df = pd.DataFrame(np.arange(15).reshape(5, 3), index=list('ABCDE'), columns=list('XYZ'))\n",
    "print(df) \n",
    "print()\n",
    "for col, row in df.items(): #her dolaşımda items fonksiyonu bize bir tuple verir.\n",
    "    print(row)"
   ]
  },
  {
   "cell_type": "code",
   "execution_count": 34,
   "metadata": {},
   "outputs": [
    {
     "name": "stdout",
     "output_type": "stream",
     "text": [
      "('A', X    0\n",
      "Y    1\n",
      "Z    2\n",
      "Name: A, dtype: int32)\n",
      "('B', X    3\n",
      "Y    4\n",
      "Z    5\n",
      "Name: B, dtype: int32)\n",
      "('C', X    6\n",
      "Y    7\n",
      "Z    8\n",
      "Name: C, dtype: int32)\n",
      "('D', X     9\n",
      "Y    10\n",
      "Z    11\n",
      "Name: D, dtype: int32)\n",
      "('E', X    12\n",
      "Y    13\n",
      "Z    14\n",
      "Name: E, dtype: int32)\n"
     ]
    }
   ],
   "source": [
    "#dataframe iterrows ile iterate etmek :burada iterate ederken satırlara erişirim \n",
    "import pandas as pd\n",
    "import numpy as np\n",
    "df = pd.DataFrame(np.arange(15).reshape(5, 3), index=list('ABCDE'), columns=list('XYZ'))\n",
    "\n",
    "for t in df.iterrows():\n",
    "    print(t)\n"
   ]
  },
  {
   "cell_type": "code",
   "execution_count": 35,
   "metadata": {},
   "outputs": [
    {
     "name": "stdout",
     "output_type": "stream",
     "text": [
      "0      1970-01-01 00:00:00.000000001\n",
      "1      1970-01-01 00:00:00.000000001\n",
      "2      1970-01-01 00:00:00.000000001\n",
      "3      1970-01-01 00:00:00.000000001\n",
      "4      1970-01-01 00:00:00.000000001\n",
      "                    ...             \n",
      "1657   1970-01-01 00:00:00.000000000\n",
      "1658   1970-01-01 00:00:00.000000000\n",
      "1659   1970-01-01 00:00:00.000000000\n",
      "1660   1970-01-01 00:00:00.000000000\n",
      "1661   1970-01-01 00:00:00.000000000\n",
      "Name: Open, Length: 1662, dtype: datetime64[ns]\n"
     ]
    }
   ],
   "source": [
    "#pandasın herhangi bir sutunununda datetime methodu ile date formatına cast edebilirim \n",
    "import pandas as pd\n",
    "import numpy as np\n",
    "df = pd.read_csv(r'CoinDatasets\\ripple_price.csv')\n",
    "result = df[['Open', 'Close']].mean(axis=0) \n",
    "result=pd.to_datetime(df['Open']) #datetime pandasın bir fonksiyonu\n",
    "print(result)"
   ]
  },
  {
   "cell_type": "code",
   "execution_count": 36,
   "metadata": {},
   "outputs": [
    {
     "name": "stdout",
     "output_type": "stream",
     "text": [
      "              Date      Open      High       Low     Close        Volume  \\\n",
      "0     Feb 20, 2018  1.140000  1.170000  1.080000  1.090000  8.066730e+08   \n",
      "1     Feb 19, 2018  1.120000  1.170000  1.120000  1.140000  5.563040e+08   \n",
      "2     Feb 18, 2018  1.200000  1.210000  1.090000  1.120000  1.113650e+09   \n",
      "3     Feb 17, 2018  1.140000  1.220000  1.130000  1.200000  1.186730e+09   \n",
      "4     Feb 16, 2018  1.140000  1.150000  1.110000  1.140000  5.683390e+08   \n",
      "...            ...       ...       ...       ...       ...           ...   \n",
      "1512  Dec 31, 2013  0.027675  0.027738  0.027022  0.027330  6.362100e+04   \n",
      "1513  Dec 30, 2013  0.027055  0.027750  0.026985  0.027460  7.263400e+04   \n",
      "1514  Dec 29, 2013  0.027311  0.027535  0.026627  0.027218  5.677200e+04   \n",
      "1515  Dec 28, 2013  0.027554  0.028106  0.026629  0.027303  1.434040e+05   \n",
      "1516  Dec 27, 2013  0.024427  0.027123  0.023527  0.027076  1.484220e+05   \n",
      "\n",
      "        Market Cap  \n",
      "0     4.464810e+10  \n",
      "1     4.381330e+10  \n",
      "2     4.699750e+10  \n",
      "3     4.437020e+10  \n",
      "4     4.466330e+10  \n",
      "...            ...  \n",
      "1512  2.163590e+08  \n",
      "1513  2.115150e+08  \n",
      "1514  2.135180e+08  \n",
      "1515  2.154130e+08  \n",
      "1516  1.909640e+08  \n",
      "\n",
      "[1517 rows x 7 columns]\n"
     ]
    }
   ],
   "source": [
    "#herhangi bir df üzerinde bir sütunu stringe çevirmek istersem \n",
    "import pandas as pd\n",
    "import numpy as np\n",
    "df = pd.read_csv(r'CoinDatasets\\ripple_price.csv') \n",
    "#volume sütunlarında virgüllerden kurtuldum\n",
    "df = df[df['Volume'].str.find('-') != 0] #find fonksiyonu boolen dönüyor eğer 0 olursa istedğimiz işlemi preprocess yapıyoruz\n",
    "#string operasyonları yapabilirim replace gibi ardından astype ile tekrardan float32 formata çevirdim \n",
    "#volume ve marketcap sütunlarında işlem yaptım \n",
    "\n",
    "df['Volume'] = df['Volume'].str.replace(',', '').astype('float32')\n",
    "df['Market Cap'] = df['Market Cap'].str.replace(',', '').astype('float32')\n",
    "print(df)\n"
   ]
  },
  {
   "cell_type": "code",
   "execution_count": 37,
   "metadata": {},
   "outputs": [
    {
     "name": "stdout",
     "output_type": "stream",
     "text": [
      "              Date      Open      High       Low     Close        Volume  \\\n",
      "0     Feb 20, 2018  1.140000  1.170000  1.080000  1.090000  8.066730e+08   \n",
      "1     Feb 19, 2018  1.120000  1.170000  1.120000  1.140000  5.563040e+08   \n",
      "2     Feb 18, 2018  1.200000  1.210000  1.090000  1.120000  1.113650e+09   \n",
      "3     Feb 17, 2018  1.140000  1.220000  1.130000  1.200000  1.186730e+09   \n",
      "4     Feb 16, 2018  1.140000  1.150000  1.110000  1.140000  5.683390e+08   \n",
      "...            ...       ...       ...       ...       ...           ...   \n",
      "1512  Dec 31, 2013  0.027675  0.027738  0.027022  0.027330  6.362100e+04   \n",
      "1513  Dec 30, 2013  0.027055  0.027750  0.026985  0.027460  7.263400e+04   \n",
      "1514  Dec 29, 2013  0.027311  0.027535  0.026627  0.027218  5.677200e+04   \n",
      "1515  Dec 28, 2013  0.027554  0.028106  0.026629  0.027303  1.434040e+05   \n",
      "1516  Dec 27, 2013  0.024427  0.027123  0.023527  0.027076  1.484220e+05   \n",
      "\n",
      "        Market Cap  \n",
      "0     4.464810e+10  \n",
      "1     4.381330e+10  \n",
      "2     4.699750e+10  \n",
      "3     4.437020e+10  \n",
      "4     4.466330e+10  \n",
      "...            ...  \n",
      "1512  2.163590e+08  \n",
      "1513  2.115150e+08  \n",
      "1514  2.135180e+08  \n",
      "1515  2.154130e+08  \n",
      "1516  1.909640e+08  \n",
      "\n",
      "[1517 rows x 7 columns]\n"
     ]
    }
   ],
   "source": [
    "#5.kolon üzerinde bir lambda fonksiyonuyla işlem yaptım\n",
    "import pandas as pd\n",
    "import numpy as np\n",
    "df = pd.read_csv(r'CoinDatasets\\ripple_price.csv', converters= {5: lambda s: None if s == '-' else s}) \n",
    "df.dropna(axis=0, inplace=True) #dropna ile noneolan satırları atıyorum \n",
    "df['Volume'] = df['Volume'].str.replace(',', '').astype('float32') # df['Volume'].str dedikten sonra yeni bir sınıf elde ediyorum bu bilinen stringden farklı pandasın string fonksiyonları0000\n",
    "df['Market Cap'] = df['Market Cap'].str.replace(',', '').astype('float32')\n",
    "print(df)\n"
   ]
  },
  {
   "cell_type": "code",
   "execution_count": null,
   "metadata": {},
   "outputs": [],
   "source": []
  }
 ],
 "metadata": {
  "kernelspec": {
   "display_name": "Python 3",
   "language": "python",
   "name": "python3"
  },
  "language_info": {
   "codemirror_mode": {
    "name": "ipython",
    "version": 3
   },
   "file_extension": ".py",
   "mimetype": "text/x-python",
   "name": "python",
   "nbconvert_exporter": "python",
   "pygments_lexer": "ipython3",
   "version": "3.7.6"
  }
 },
 "nbformat": 4,
 "nbformat_minor": 4
}
