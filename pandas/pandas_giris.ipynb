{
 "cells": [
  {
   "cell_type": "markdown",
   "metadata": {},
   "source": [
    "# PANDAS GİRİŞ"
   ]
  },
  {
   "cell_type": "code",
   "execution_count": null,
   "metadata": {},
   "outputs": [],
   "source": [
    "#pandas:sütunlu veri tablosu oluşturabilmesi,numpydan daha gelişmiş bir kütüphanedir\n",
    "#pandasta sütunlara series nesneleri deniyor.\n",
    "#pandasta sütunlar ayrı birer nesnedir, serieslar birleşerek dataframe oluşturur.\n",
    "#pandas seriese nesneleri nump array şeklinde verilebilirken liste olarakta verilebilir\n",
    "#series=tek boyutlu vektörlerdir bir araya gelince =>> dataframe oluşur\n",
    "#numpydan farklı olarak pandasta her sütun elemanı faklı br dtypedadır."
   ]
  },
  {
   "cell_type": "code",
   "execution_count": null,
   "metadata": {},
   "outputs": [],
   "source": [
    "#Kazanımlar: \n",
    "#Seri oluşturma \n",
    "#İndex kavramı \n",
    "#Size özniteliği \n",
    "#Name özniteliği \n",
    "#Sıra numarasıyla indexleme  ve dilimleme\n",
    "#Label ile indexleme ve dilimleme"
   ]
  },
  {
   "cell_type": "code",
   "execution_count": 1,
   "metadata": {},
   "outputs": [
    {
     "name": "stdout",
     "output_type": "stream",
     "text": [
      "0    10\n",
      "1    20\n",
      "2    30\n",
      "3    40\n",
      "4    50\n",
      "dtype: int64\n"
     ]
    }
   ],
   "source": [
    "#pandas series nesnesi tanımını liste şeklinde veriyorum\n",
    "import pandas as pd\n",
    "import numpy as np\n",
    "s = pd.Series([10, 20, 30, 40, 50])\n",
    "print(s)"
   ]
  },
  {
   "cell_type": "code",
   "execution_count": 4,
   "metadata": {},
   "outputs": [
    {
     "name": "stdout",
     "output_type": "stream",
     "text": [
      "<class 'pandas.core.series.Series'>\n",
      "0    10.0\n",
      "1    20.0\n",
      "2    30.0\n",
      "3    40.0\n",
      "4    50.0\n",
      "dtype: float32\n",
      "\n"
     ]
    }
   ],
   "source": [
    "#pandas series nesnesi tanımını np.array şeklinde veriyorum\n",
    "import pandas as pd\n",
    "import numpy as np\n",
    "a = np.array([10, 20, 30, 40, 50], dtype='float32')\n",
    "s = pd.Series(a)\n",
    "print(type(s))\n",
    "print(s)\n",
    "print()"
   ]
  },
  {
   "cell_type": "code",
   "execution_count": 3,
   "metadata": {},
   "outputs": [
    {
     "name": "stdout",
     "output_type": "stream",
     "text": [
      "Ali       10.0\n",
      "Veli      20.0\n",
      "Selami    30.0\n",
      "Ayşe      40.0\n",
      "Fatma     50.0\n",
      "dtype: float64\n",
      "\n"
     ]
    }
   ],
   "source": [
    "#series nesneleri indexlere sahiptir.İndexler farklı tiplerden olabilirler elemana erişimi indexler kolaylaştırır.\n",
    "#string tipinde index tanımı\n",
    "import pandas as pd\n",
    "import numpy as np\n",
    "a = np.array([10, 20, 30, 40, 50], dtype='float32')\n",
    "s = pd.Series(a, dtype='float64', index=['Ali', 'Veli', 'Selami', 'Ayşe', 'Fatma'])\n",
    "print(s)\n",
    "print()\n"
   ]
  },
  {
   "cell_type": "code",
   "execution_count": 6,
   "metadata": {},
   "outputs": [
    {
     "name": "stdout",
     "output_type": "stream",
     "text": [
      "0        0.0\n",
      "1       89.0\n",
      "2       25.0\n",
      "3      245.0\n",
      "4      217.0\n",
      "       ...  \n",
      "188    333.0\n",
      "189    111.0\n",
      "190      6.0\n",
      "191     32.0\n",
      "192     64.0\n",
      "Length: 193, dtype: float32\n"
     ]
    }
   ],
   "source": [
    "#bir csv dosyasını loadtxt ile okuyup np seriese atama yaparsam \n",
    "import pandas as pd\n",
    "import numpy as np\n",
    "a = np.loadtxt('dring.csv', delimiter=',', dtype='str', encoding='utf-8', skiprows=1)\n",
    "beer_servings = a[:, 1].astype('float32') #dtype float32 ye çevirdim\n",
    "s = pd.Series(beer_servings)\n",
    "print(s)"
   ]
  },
  {
   "cell_type": "code",
   "execution_count": 7,
   "metadata": {},
   "outputs": [
    {
     "name": "stdout",
     "output_type": "stream",
     "text": [
      "afghanistan      0.0\n",
      "albania         89.0\n",
      "algeria         25.0\n",
      "andorra        245.0\n",
      "angola         217.0\n",
      "               ...  \n",
      "venezuela      333.0\n",
      "vietnam        111.0\n",
      "yemen            6.0\n",
      "zambia          32.0\n",
      "zimbabwe        64.0\n",
      "Name: Beer Servings, Length: 193, dtype: float32\n"
     ]
    }
   ],
   "source": [
    "#bir csv dosyasını loadtxt ile okuyup indexini ilk sütunu yapmak istersem\n",
    "import pandas as pd\n",
    "import numpy as np\n",
    "drings = np.loadtxt('dring.csv', delimiter=',', dtype='str', encoding='utf-8', skiprows=1)\n",
    "beer_servings = drings[:, 1].astype('float32')\n",
    "s = pd.Series(beer_servings, index=drings[:, 0],name='Beer Servings') #name parametresi ile dataframe'e isim verdim \n",
    "#s.index=index=drings[:,0] şeklindede atama yapılabilir\n",
    "print(s)"
   ]
  },
  {
   "cell_type": "markdown",
   "metadata": {},
   "source": [
    "# Pandas Series  Methodlar"
   ]
  },
  {
   "cell_type": "code",
   "execution_count": null,
   "metadata": {},
   "outputs": [],
   "source": [
    "#Kazanımlar:Series methodlarım ;\n",
    "#s.size() ve len(s) =>>> kaç tane kayıt olduğunu görürüm \n",
    "#s.tail => sondan 5 kayıt  listele\n",
    "#s.head => baştan 5 kayıt s.head(10)= bastan 10 kayıt görmek istersem  \n",
    "#s.index[3] diyerek indexlerimin 3.elemanına erişebilirim \n",
    "#s[5] diyerek seriesin 5. elemanına ulaşabilirim \n",
    "#Dilimlemek istersem s[3:10] derse 3.elemandan 10.elemana kadar erişebilirim \n",
    "#s[3:10:2] dersem 2'şer arttırarak dilimlerim \n",
    "#indexi veripte elemana ulaşabilirim s['argentina'] dersem indexi argentina olan elemana erişirim  \n",
    "#s['algeria':'bolivia] dersem algeria indexinden bolivia indexine kadar dilimlerim  \n",
    "#s.algeria dersem labeli örnek özniteliğiymiş gibi çağırabilirim  \n",
    "#s.values dersem series nesnelerini numpy dizisi şeklinde alabilirim\n",
    "#series methodları pandasta işlem yapabilmek için kritik\n",
    "#value methodu \n",
    "#isna()  isnull() \n",
    "#sum() \n",
    "#count()\n",
    "#shape()\n",
    "#fillna(x)  \n",
    "#dropna()  \n",
    "#s.std() =>standart sapma\n",
    "#s.var() => varyans alıyor\n",
    "#s.median() => medyanı verir \n",
    "#mode() => serinin modunu verir \n",
    "#unique() => serinin unique değerlerini veriyor \n",
    "#pop() => belirli bir indexi silmek için kullanır  \n",
    "#hist() => değerlerin olasılık yoğunluk fonk çizilir \n",
    "#describe() => bu method ile serinin özelliklerini bulup istediğimi çekebilirim \n",
    "#nsmallest() => en küçük n tane değeri verir\n",
    "#nlargerst() => en büyük n tane değeri verir \n",
    "#sortvalue() ve sortindex() ile sort işlemini yapabiliriz  \n",
    "#cumsum() ile toplayarak kümülatif olarak elemanları toplar  \n",
    "#nesneadi.filter(regex='^tur') istediğim kriterde  getirebilirim \n",
    "#idmax() ve idmin() ile en büyük veya en küçük elemanın indexine ulaşabiliriz \n",
    "#todict ile değerleri sözlüğe cast edebiliriz \n",
    "#tolist() ile değerleri listeye cast edebiliriz   \n",
    "#toexcel() yaparsam excele çeviririm datalarımı \n",
    "#to_csv() yaparsam istediğim veriyi csv kaydederim "
   ]
  },
  {
   "cell_type": "markdown",
   "metadata": {},
   "source": [
    "# LOC VE İLOC KULLANIMI"
   ]
  },
  {
   "cell_type": "code",
   "execution_count": null,
   "metadata": {},
   "outputs": [],
   "source": [
    "#s.loc=sadece label indexlemede kullanılır \n",
    "#s.iloc=sırasal klasik indexlemede kullanılıyor => numara ile indexlemede kullanılıyor.\n",
    "#s[] şeklinde yaparsam loc ve iloc ile yapılanların ikisinide yapabilirim "
   ]
  },
  {
   "cell_type": "code",
   "execution_count": 9,
   "metadata": {},
   "outputs": [
    {
     "name": "stdout",
     "output_type": "stream",
     "text": [
      "afghanistan      0.0\n",
      "albania         89.0\n",
      "algeria         25.0\n",
      "andorra        245.0\n",
      "angola         217.0\n",
      "               ...  \n",
      "venezuela      333.0\n",
      "vietnam        111.0\n",
      "yemen            6.0\n",
      "zambia          32.0\n",
      "zimbabwe        64.0\n",
      "Name: Beer Servings, Length: 193, dtype: float32\n"
     ]
    }
   ],
   "source": [
    "import numpy as np\n",
    "import pandas as pd\n",
    "drings = np.loadtxt('dring.csv', delimiter=',', dtype='str', encoding='utf-8', skiprows=1)\n",
    "beer_servings = drings[:, 1].astype('float32')\n",
    "s = pd.Series(beer_servings, index=drings[:, 0],name='Beer Servings') #name parametresi ile dataframe'e isim verdim \n",
    "#s.index=index=drings[:,0] şeklinde de atama yapılabilir\n",
    "print(s)"
   ]
  },
  {
   "cell_type": "code",
   "execution_count": 10,
   "metadata": {},
   "outputs": [
    {
     "name": "stdout",
     "output_type": "stream",
     "text": [
      "andorra              245.0\n",
      "angola               217.0\n",
      "antigua & barbuda    102.0\n",
      "argentina            193.0\n",
      "australia            261.0\n",
      "                     ...  \n",
      "united kingdom       219.0\n",
      "usa                  249.0\n",
      "uruguay              115.0\n",
      "venezuela            333.0\n",
      "vietnam              111.0\n",
      "Name: Beer Servings, Length: 79, dtype: float32\n"
     ]
    }
   ],
   "source": [
    "print(s[s>100]) #100 den büyük değerleri getirmek istersem "
   ]
  },
  {
   "cell_type": "code",
   "execution_count": 11,
   "metadata": {},
   "outputs": [
    {
     "name": "stdout",
     "output_type": "stream",
     "text": [
      "Index(['andorra', 'angola', 'antigua & barbuda', 'argentina', 'australia',\n",
      "       'austria', 'bahamas', 'barbados', 'belarus', 'belgium', 'belize',\n",
      "       'bolivia', 'botswana', 'brazil', 'bulgaria', 'cabo verde', 'cameroon',\n",
      "       'canada', 'chile', 'colombia', 'costa rica', 'croatia', 'cyprus',\n",
      "       'czech republic', 'denmark', 'dominican republic', 'ecuador', 'estonia',\n",
      "       'finland', 'france', 'gabon', 'germany', 'greece', 'grenada', 'hungary',\n",
      "       'iceland', 'ireland', 'kazakhstan', 'latvia', 'lithuania', 'luxembourg',\n",
      "       'malta', 'mexico', 'namibia', 'netherlands', 'new zealand', 'niue',\n",
      "       'norway', 'palau', 'panama', 'paraguay', 'peru', 'poland', 'portugal',\n",
      "       'south korea', 'moldova', 'romania', 'russian federation',\n",
      "       'st. kitts & nevis', 'st. lucia', 'st. vincent & the grenadines',\n",
      "       'samoa', 'serbia', 'seychelles', 'slovakia', 'slovenia', 'south africa',\n",
      "       'spain', 'suriname', 'sweden', 'switzerland', 'macedonia',\n",
      "       'trinidad & tobago', 'ukraine', 'united kingdom', 'usa', 'uruguay',\n",
      "       'venezuela', 'vietnam'],\n",
      "      dtype='object')\n"
     ]
    }
   ],
   "source": [
    "print(s[s>100].index) #100 den büyük olan elemanların indexlerine erişmek istersem"
   ]
  },
  {
   "cell_type": "code",
   "execution_count": null,
   "metadata": {},
   "outputs": [],
   "source": [
    "#Not:shape fonksiyonu s.shape =>> tek boyutlu oluyor s.size dan farkı yok \n",
    "#Bir series nesnesini bir skaler ile işleme sokarsam her eleman üzerinde işlem yapılır s=s+2 dersem her elemana  2 eklenir \n",
    "#seriesler tek boyutludur bunu asla atlamamalıyım \n",
    "\n",
    "#isna() fonksiyonu:s.isna() =>> boş olan değerlerde true ,dolu değerlerde false dönüyor benzeri isnull() methodudur bu methodların tersi notnull dir \n",
    "#s.sum() ile tüm serie elemanlarını toplarım \n",
    "#s.count() bu method ile seri içindeki none olmayan elemanların sayısını buluruz\n",
    "#s[s.isnull()] => bu method ile nan olanları çekebilirim \n",
    "#s.fillna(100) =>na değerlerini 100 ile doldurmak istersem kullanırım, s.fillna(s.mean()) dersem na lar ortalama ile dolar\n",
    "#s.dropna() => nan olan elemanlardan kurtulmak için kullanılır\n",
    "#iki series nesnesi toplanırken aynı index isimleri toplanır farklı indexler için none yazılır \n"
   ]
  },
  {
   "cell_type": "markdown",
   "metadata": {},
   "source": [
    "# READ_CSV METHODU"
   ]
  },
  {
   "cell_type": "code",
   "execution_count": 2,
   "metadata": {},
   "outputs": [
    {
     "name": "stdout",
     "output_type": "stream",
     "text": [
      "928      3.540000\n",
      "927      2.800000\n",
      "926      0.879810\n",
      "925      0.729854\n",
      "924      1.130000\n",
      "          ...    \n",
      "4      950.000000\n",
      "3      976.600000\n",
      "2      982.930000\n",
      "1      957.780000\n",
      "0      965.260000\n",
      "Name: High, Length: 929, dtype: float64\n"
     ]
    },
    {
     "data": {
      "image/png": "[encoded data removed]",
      "text/plain": [
       "<Figure size 432x288 with 1 Axes>"
      ]
     },
     "metadata": {
      "needs_background": "light"
     },
     "output_type": "display_data"
    }
   ],
   "source": [
    "import pandas as pd\n",
    "import numpy as np \n",
    "import matplotlib.pyplot as plt\n",
    "\n",
    "btc = pd.read_csv('bitcoin_price.csv', delimiter=',')\n",
    "\n",
    "date = btc['Date']\n",
    "max_price = btc['High']\n",
    "max_price.index = date.values \n",
    "max_price = max_price.sort_values(ascending=True)\n",
    "x = max_price.index\n",
    "y = max_price.values #numpy series nesnemi arraye çevirdim \n",
    "plt.plot(x, y)\n",
    "\n",
    "eth =  pd.read_csv('ethereum_price.csv', delimiter=',')\n",
    "eth_date = eth['Date']\n",
    "eth_max_price = eth['High'][::-1] #ters çevirdim  \n",
    "print(eth_max_price)"
   ]
  },
  {
   "cell_type": "code",
   "execution_count": 3,
   "metadata": {},
   "outputs": [
    {
     "data": {
      "text/plain": [
       "<matplotlib.axes._subplots.AxesSubplot at 0x1e5f7d65308>"
      ]
     },
     "execution_count": 3,
     "metadata": {},
     "output_type": "execute_result"
    },
    {
     "data": {
      "image/png": "[encoded data removed]",
      "text/plain": [
       "<Figure size 432x288 with 1 Axes>"
      ]
     },
     "metadata": {
      "needs_background": "light"
     },
     "output_type": "display_data"
    }
   ],
   "source": [
    "#iki series toplanırken indexleri aynı olan toplanır. \n",
    "#a ve b toplanmak istenirse eşleşmeyen indexleride toplamak istersem a.add(b,fiil_value=0) yaparsam eşleşmeyenleride toplama getiririm \n",
    "\n",
    "import pandas as pd\n",
    "import numpy as np\n",
    "btc = pd.read_csv('bitcoin_price.csv', delimiter=',')\n",
    "\n",
    "btc_date = btc['Date']\n",
    "btc_max_price = btc['High']\n",
    "eth =  pd.read_csv('ethereum_price.csv', delimiter=',')\n",
    "eth_date = eth['Date']\n",
    "eth_max_price = eth['High']\n",
    "\n",
    "result = btc_max_price / eth_max_price\n",
    "result.dropna(inplace=True)\n",
    "result.plot()"
   ]
  },
  {
   "cell_type": "code",
   "execution_count": 4,
   "metadata": {},
   "outputs": [
    {
     "data": {
      "text/plain": [
       "<matplotlib.axes._subplots.AxesSubplot at 0x1e5f389ed88>"
      ]
     },
     "execution_count": 4,
     "metadata": {},
     "output_type": "execute_result"
    },
    {
     "data": {
      "image/png": "[encoded data removed]",
      "text/plain": [
       "<Figure size 432x288 with 1 Axes>"
      ]
     },
     "metadata": {
      "needs_background": "light"
     },
     "output_type": "display_data"
    }
   ],
   "source": [
    "import pandas as pd\n",
    "import numpy as np\n",
    "\n",
    "btc = pd.read_csv('bitcoin_price.csv', delimiter=',')\n",
    "\n",
    "btc_date = btc['Date']\n",
    "btc_max_price = btc['High']\n",
    "\n",
    "eth =  pd.read_csv('ethereum_price.csv', delimiter=',')\n",
    "eth_date = eth['Date']\n",
    "eth_max_price = eth['High']\n",
    "\n",
    "result = btc_max_price / eth_max_price\n",
    "result.dropna(inplace=True)\n",
    "\n",
    "result.index = range(result.size - 1, -1, -1)\n",
    "result.plot()"
   ]
  },
  {
   "cell_type": "code",
   "execution_count": 7,
   "metadata": {},
   "outputs": [
    {
     "name": "stdout",
     "output_type": "stream",
     "text": [
      "afghanistan     0.0\n",
      "albania         4.9\n",
      "algeria         0.7\n",
      "andorra        12.4\n",
      "angola          5.9\n",
      "               ... \n",
      "venezuela       7.7\n",
      "vietnam         2.0\n",
      "yemen           0.1\n",
      "zambia          2.5\n",
      "zimbabwe        4.7\n",
      "Name: total_litres_of_pure_alcohol, Length: 193, dtype: float64\n",
      "\n",
      "Index(['afghanistan', 'albania', 'algeria', 'andorra', 'angola',\n",
      "       'antigua & barbuda', 'argentina', 'armenia', 'australia', 'austria',\n",
      "       ...\n",
      "       'tanzania', 'usa', 'uruguay', 'uzbekistan', 'vanuatu', 'venezuela',\n",
      "       'vietnam', 'yemen', 'zambia', 'zimbabwe'],\n",
      "      dtype='object', length=193)\n"
     ]
    }
   ],
   "source": [
    "#\n",
    "import pandas as pd\n",
    "import numpy as np\n",
    "\n",
    "alcohol = pd.read_csv('dring2.csv', delimiter=',')\n",
    "country = alcohol['country']\n",
    "\n",
    "total_alcohol = alcohol['total_litres_of_pure_alcohol']\n",
    "total_alcohol.index = country.values\n",
    "print(total_alcohol) \n",
    "print() \n",
    "print(total_alcohol.index)\n"
   ]
  },
  {
   "cell_type": "code",
   "execution_count": 8,
   "metadata": {},
   "outputs": [
    {
     "name": "stdout",
     "output_type": "stream",
     "text": [
      "('afghanistan', 0.0)\n",
      "('albania', 4.9)\n",
      "('algeria', 0.7)\n",
      "('andorra', 12.4)\n",
      "('angola', 5.9)\n",
      "('antigua & barbuda', 4.9)\n",
      "('argentina', 8.3)\n",
      "('armenia', 3.8)\n",
      "('australia', 10.4)\n",
      "('austria', 9.7)\n",
      "('azerbaijan', 1.3)\n",
      "('bahamas', 6.3)\n",
      "('bahrain', 2.0)\n",
      "('bangladesh', 0.0)\n",
      "('barbados', 6.3)\n",
      "('belarus', 14.4)\n",
      "('belgium', 10.5)\n",
      "('belize', 6.8)\n",
      "('benin', 1.1)\n",
      "('bhutan', 0.4)\n",
      "('bolivia', 3.8)\n",
      "('bosnia-herzegovina', 4.6)\n",
      "('botswana', 5.4)\n",
      "('brazil', 7.2)\n",
      "('brunei', 0.6)\n",
      "('bulgaria', 10.3)\n",
      "('burkina faso', 4.3)\n",
      "('burundi', 6.3)\n",
      "(\"cote d'ivoire\", 4.0)\n",
      "('cabo verde', 4.0)\n",
      "('cambodia', 2.2)\n",
      "('cameroon', 5.8)\n",
      "('canada', 8.2)\n",
      "('central african republic', 1.8)\n",
      "('chad', 0.4)\n",
      "('chile', 7.6)\n",
      "('china', 5.0)\n",
      "('colombia', 4.2)\n",
      "('comoros', 0.1)\n",
      "('congo', 1.7)\n",
      "('cook islands', 5.9)\n",
      "('costa rica', 4.4)\n",
      "('croatia', 10.2)\n",
      "('cuba', 4.2)\n",
      "('cyprus', 8.2)\n",
      "('czech republic', 11.8)\n",
      "('north korea', 0.0)\n",
      "('dr congo', 2.3)\n",
      "('denmark', 10.4)\n",
      "('djibouti', 1.1)\n",
      "('dominica', 6.6)\n",
      "('dominican republic', 6.2)\n",
      "('ecuador', 4.2)\n",
      "('egypt', 0.2)\n",
      "('el salvador', 2.2)\n",
      "('equatorial guinea', 5.8)\n",
      "('eritrea', 0.5)\n",
      "('estonia', 9.5)\n",
      "('ethiopia', 0.7)\n",
      "('fiji', 2.0)\n",
      "('finland', 10.0)\n",
      "('france', 11.8)\n",
      "('gabon', 8.9)\n",
      "('gambia', 2.4)\n",
      "('georgia', 5.4)\n",
      "('germany', 11.3)\n",
      "('ghana', 1.8)\n",
      "('greece', 8.3)\n",
      "('grenada', 11.9)\n",
      "('guatemala', 2.2)\n",
      "('guinea', 0.2)\n",
      "('guinea-bissau', 2.5)\n",
      "('guyana', 7.1)\n",
      "('haiti', 5.9)\n",
      "('honduras', 3.0)\n",
      "('hungary', 11.3)\n",
      "('iceland', 6.6)\n",
      "('india', 2.2)\n",
      "('indonesia', 0.1)\n",
      "('iran', 0.0)\n",
      "('iraq', 0.2)\n",
      "('ireland', 11.4)\n",
      "('israel', 2.5)\n",
      "('italy', 6.5)\n",
      "('jamaica', 3.4)\n",
      "('japan', 7.0)\n",
      "('jordan', 0.5)\n",
      "('kazakhstan', 6.8)\n",
      "('kenya', 1.8)\n",
      "('kiribati', 1.0)\n",
      "('kuwait', 0.0)\n",
      "('kyrgyzstan', 2.4)\n",
      "('laos', 6.2)\n",
      "('latvia', 10.5)\n",
      "('lebanon', 1.9)\n",
      "('lesotho', 2.8)\n",
      "('liberia', 3.1)\n",
      "('libya', 0.0)\n",
      "('lithuania', 12.9)\n",
      "('luxembourg', 11.4)\n",
      "('madagascar', 0.8)\n",
      "('malawi', 1.5)\n",
      "('malaysia', 0.3)\n",
      "('maldives', 0.0)\n",
      "('mali', 0.6)\n",
      "('malta', 6.6)\n",
      "('marshall islands', 0.0)\n",
      "('mauritania', 0.0)\n",
      "('mauritius', 2.6)\n",
      "('mexico', 5.5)\n",
      "('micronesia', 2.3)\n",
      "('monaco', 0.0)\n",
      "('mongolia', 4.9)\n",
      "('montenegro', 4.9)\n",
      "('morocco', 0.5)\n",
      "('mozambique', 1.3)\n",
      "('myanmar', 0.1)\n",
      "('namibia', 6.8)\n",
      "('nauru', 1.0)\n",
      "('nepal', 0.2)\n",
      "('netherlands', 9.4)\n",
      "('new zealand', 9.3)\n",
      "('nicaragua', 3.5)\n",
      "('niger', 0.1)\n",
      "('nigeria', 9.1)\n",
      "('niue', 7.0)\n",
      "('norway', 6.7)\n",
      "('oman', 0.7)\n",
      "('pakistan', 0.0)\n",
      "('palau', 6.9)\n",
      "('panama', 7.2)\n",
      "('papua new guinea', 1.5)\n",
      "('paraguay', 7.3)\n",
      "('peru', 6.1)\n",
      "('philippines', 4.6)\n",
      "('poland', 10.9)\n",
      "('portugal', 11.0)\n",
      "('qatar', 0.9)\n",
      "('south korea', 9.8)\n",
      "('moldova', 6.3)\n",
      "('romania', 10.4)\n",
      "('russian federation', 11.5)\n",
      "('rwanda', 6.8)\n",
      "('st. kitts & nevis', 7.7)\n",
      "('st. lucia', 10.1)\n",
      "('st. vincent & the grenadines', 6.3)\n",
      "('samoa', 2.6)\n",
      "('san marino', 0.0)\n",
      "('sao tome & principe', 4.2)\n",
      "('saudi arabia', 0.1)\n",
      "('senegal', 0.3)\n",
      "('serbia', 9.6)\n",
      "('seychelles', 4.1)\n",
      "('sierra leone', 6.7)\n",
      "('singapore', 1.5)\n",
      "('slovakia', 11.4)\n",
      "('slovenia', 10.6)\n",
      "('solomon islands', 1.2)\n",
      "('somalia', 0.0)\n",
      "('south africa', 8.2)\n",
      "('spain', 10.0)\n",
      "('sri lanka', 2.2)\n",
      "('sudan', 1.7)\n",
      "('suriname', 5.6)\n",
      "('swaziland', 4.7)\n",
      "('sweden', 7.2)\n",
      "('switzerland', 10.2)\n",
      "('syria', 1.0)\n",
      "('tajikistan', 0.3)\n",
      "('thailand', 6.4)\n",
      "('macedonia', 3.9)\n",
      "('timor-leste', 0.1)\n",
      "('togo', 1.3)\n",
      "('tonga', 1.1)\n",
      "('trinidad & tobago', 6.4)\n",
      "('tunisia', 1.3)\n",
      "('turkey', 1.4)\n",
      "('turkmenistan', 2.2)\n",
      "('tuvalu', 1.0)\n",
      "('uganda', 8.3)\n",
      "('ukraine', 8.9)\n",
      "('united arab emirates', 2.8)\n",
      "('united kingdom', 10.4)\n",
      "('tanzania', 5.7)\n",
      "('usa', 8.7)\n",
      "('uruguay', 6.6)\n",
      "('uzbekistan', 2.4)\n",
      "('vanuatu', 0.9)\n",
      "('venezuela', 7.7)\n",
      "('vietnam', 2.0)\n",
      "('yemen', 0.1)\n",
      "('zambia', 2.5)\n",
      "('zimbabwe', 4.7)\n"
     ]
    }
   ],
   "source": [
    "#items ile değerleri ve indexleri dolaşabilirim \n",
    "import pandas as pd\n",
    "import numpy as np\n",
    "alcohol = pd.read_csv('dring2.csv', delimiter=',')\n",
    "country = alcohol['country']\n",
    "\n",
    "total_alcohol = alcohol['total_litres_of_pure_alcohol'].astype('float64')\n",
    "total_alcohol.index = country.values\n",
    "for t in total_alcohol.items():\n",
    "    print(t)"
   ]
  },
  {
   "cell_type": "code",
   "execution_count": 9,
   "metadata": {},
   "outputs": [],
   "source": [
    "#Not:mask function :Karmaşık koşullar fonksiyonlar alıp işlem yapabiliriz\n",
    "#df.mask(lamda s: s=='-','nan')  #ile  - yazan ifadeyi nan ile yer değiştirmiş oldum "
   ]
  }
 ],
 "metadata": {
  "kernelspec": {
   "display_name": "Python 3",
   "language": "python",
   "name": "python3"
  },
  "language_info": {
   "codemirror_mode": {
    "name": "ipython",
    "version": 3
   },
   "file_extension": ".py",
   "mimetype": "text/x-python",
   "name": "python",
   "nbconvert_exporter": "python",
   "pygments_lexer": "ipython3",
   "version": "3.7.6"
  }
 },
 "nbformat": 4,
 "nbformat_minor": 4
}
